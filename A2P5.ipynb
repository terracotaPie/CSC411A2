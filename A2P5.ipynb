{
 "cells": [
  {
   "cell_type": "code",
   "execution_count": 1,
   "metadata": {
    "collapsed": false,
    "nbpresent": {
     "id": "7c2fc215-c9e1-4187-98e8-0a8fd9ac43e4"
    },
    "scrolled": true
   },
   "outputs": [],
   "source": [
    "%matplotlib inline  \n",
    "from pylab import *\n",
    "import numpy as np\n",
    "import matplotlib.pyplot as plt\n",
    "import matplotlib.cbook as cbook\n",
    "import time\n",
    "from scipy.misc import imread\n",
    "from scipy.misc import imresize\n",
    "import matplotlib.image as mpimg\n",
    "from scipy.ndimage import filters\n",
    "import urllib\n",
    "from numpy import random\n",
    "\n",
    "import cPickle\n",
    "\n",
    "import os\n",
    "from scipy.io import loadmat\n",
    "\n",
    "#Load the MNIST digit data\n",
    "M = loadmat(\"mnist_all.mat\")\n",
    "\n",
    "#Display the 150-th \"5\" digit from the training set\n",
    "#imshow(M[\"train5\"][150].reshape((28,28)), cmap=cm.gray)\n",
    "#show()\n",
    "\n",
    "\n",
    "def softmax(y):\n",
    "    '''Return the output of the softmax function for the matrix of output y. y\n",
    "    is an NxM matrix where N is the number of outputs for a single case, and M\n",
    "    is the number of cases'''\n",
    "    return exp(y) / tile(sum(exp(y), 0), (len(y), 1))\n",
    "\n",
    "\n",
    "def tanh_layer(y, W, b):\n",
    "    '''Return the output of a tanh layer for the input matrix y. y\n",
    "    is an NxM matrix where N is the number of inputs for a single case, and M\n",
    "    is the number of cases'''\n",
    "    return tanh(dot(W.T, y) + b)\n",
    "\n",
    "\n",
    "def forward(x, W0, b0, W1, b1):\n",
    "    L0 = tanh_layer(x, W0, b0)\n",
    "    L1 = dot(W1.T, L0) + b1\n",
    "    output = softmax(L1)\n",
    "    return L0, L1, output\n",
    "\n",
    "def deriv_multilayer(W0, b0, W1, b1, x, L0, L1, y, y_):\n",
    "    dCdL1 = y - y_\n",
    "    dCdW1 = dot(L0, dCdL1.T)\n",
    "    dCdobydodh = dot(W1, dCdL1)\n",
    "    one_minus_h_sq = 1 - L0**2\n",
    "\n",
    "    dCdW0 = tile(dCdobydodh, 28 * 28).T * dot(x, (one_minus_h_sq.T))\n",
    "    dCdb1 = dCdL1\n",
    "    dCdb0 = dCdobydodh * one_minus_h_sq\n",
    "\n",
    "    return dCdW1, dCdb1, dCdW0, dCdb0"
   ]
  },
  {
   "cell_type": "code",
   "execution_count": 2,
   "metadata": {
    "collapsed": true
   },
   "outputs": [],
   "source": [
    "def cross_entropy(y, y_):\n",
    "    return -sum(y_ * log(y))"
   ]
  },
  {
   "cell_type": "code",
   "execution_count": 3,
   "metadata": {
    "collapsed": false,
    "nbpresent": {
     "id": "7543acf1-8358-4933-b7d4-d008fdf99f06"
    }
   },
   "outputs": [],
   "source": [
    "#Load sample weights for the multilayer neural network\n",
    "f = open(\"snapshot50.pkl\", \"rb\")\n",
    "snapshot = cPickle.load(f)\n",
    "W0 = snapshot[\"W0\"]\n",
    "b0 = snapshot[\"b0\"].reshape((300, 1))\n",
    "W1 = snapshot[\"W1\"]\n",
    "b1 = snapshot[\"b1\"].reshape((10, 1))\n",
    "\n",
    "# L0, L1, output = forward(x, W0, b0, W1, b1)\n",
    "# y = argmax(output)\n",
    "\n",
    "# y_true = array([[0, 0, 0, 0, 0, 1, 0, 0, 0, 0]]).T\n",
    "# print(deriv_multilayer(W0, b0, W1, b1,x, L0, L1, output, y_true))\n",
    "################################################################################\n",
    "# Code for displaying a feature from the weight matrix mW\n",
    "# fig = figure(1)\n",
    "# ax = fig.gca()\n",
    "# heatmap = ax.imshow(W0[:, 50].reshape((28, 28)), cmap=cm.coolwarm)\n",
    "# fig.colorbar(heatmap, shrink=0.5, aspect=5)\n",
    "# show()\n",
    "################################################################################"
   ]
  },
  {
   "cell_type": "code",
   "execution_count": 32,
   "metadata": {
    "collapsed": false
   },
   "outputs": [],
   "source": [
    "def get_batch(offset,example_per_class=5):\n",
    "    # 5 examples per class\n",
    "    classes_num = 10\n",
    "    x_batch = np.zeros((example_per_class * classes_num, 28 * 28))\n",
    "    y_batch = np.zeros((example_per_class * classes_num, classes_num))\n",
    "    for i in xrange(classes_num):\n",
    "        for j in xrange(example_per_class):\n",
    "            x_batch[i * example_per_class + j] = M['train' + str(i)][j +\n",
    "                                                                     offset]\n",
    "            y_batch[i * example_per_class + j][i] = 1\n",
    "    return x_batch, y_batch, example_per_class * classes_num"
   ]
  },
  {
   "cell_type": "code",
   "execution_count": 7,
   "metadata": {
    "collapsed": false
   },
   "outputs": [
    {
     "data": {
      "text/plain": [
       "41.54"
      ]
     },
     "execution_count": 7,
     "metadata": {},
     "output_type": "execute_result"
    }
   ],
   "source": [
    "#Load one example from the training set, and run it through the\n",
    "def test_image(x):\n",
    "    _,_, output = forward(x, W0, b0, W1, b1)\n",
    "    return argmax(output)\n",
    "\n",
    "def test_perf():\n",
    "    hit = miss = 0\n",
    "    for i in range(10):\n",
    "        for image in M[\"test\" + str(i)]:\n",
    "            result = test_image(image.reshape(784,1))\n",
    "            if result == i:\n",
    "                hit+=1\n",
    "            else:\n",
    "                miss+=1\n",
    "    return (float(hit)/float(hit + miss) * 100)\n",
    "test_perf()"
   ]
  },
  {
   "cell_type": "code",
   "execution_count": 8,
   "metadata": {
    "collapsed": false,
    "scrolled": true
   },
   "outputs": [],
   "source": [
    "# Do gradient descent\n",
    "plot_iters = []\n",
    "plot_performance = []\n",
    "def train(plot=False):\n",
    "    global W0, b0, W1, b1\n",
    "    global plot_iters, plot_performance\n",
    "    alpha = 1e-3\n",
    "    for i in xrange(50):\n",
    "        X, Y, examples_n = get_batch(i * 5)\n",
    "\n",
    "        update = np.zeros(4)\n",
    "\n",
    "        for j in xrange(examples_n):\n",
    "            y = Y[j].reshape((10, 1))\n",
    "            x = X[j].reshape((28 * 28, 1))\n",
    "            L0, L1, output = forward(x, W0, b0, W1, b1)\n",
    "            gradients = deriv_multilayer(W0, b0, W1, b1, x, L0, L1, output, y)\n",
    "            update = [update[k] + gradients[k] for k in range(len(gradients))]\n",
    "\n",
    "        # update the weights \n",
    "        W1 -= alpha * update[0]\n",
    "        b1 -= alpha * update[1]\n",
    "        W0 -= alpha * update[2]\n",
    "        b0 -= alpha * update[3]\n",
    "        if plot:\n",
    "            plot_iters.append(i * examples_n)\n",
    "            plot_performance.append(test_perf())\n",
    "            \n",
    "train(plot=True)"
   ]
  },
  {
   "cell_type": "code",
   "execution_count": 9,
   "metadata": {
    "collapsed": false
   },
   "outputs": [
    {
     "name": "stdout",
     "output_type": "stream",
     "text": [
      "[0, 50, 100, 150, 200, 250, 300, 350, 400, 450, 500, 550, 600, 650, 700, 750, 800, 850, 900, 950, 1000, 1050, 1100, 1150, 1200, 1250, 1300, 1350, 1400, 1450, 1500, 1550, 1600, 1650, 1700, 1750, 1800, 1850, 1900, 1950, 2000, 2050, 2100, 2150, 2200, 2250, 2300, 2350, 2400, 2450]\n",
      "[55.06999999999999, 57.730000000000004, 66.17, 67.27, 69.37, 70.46, 71.69, 69.81, 70.63000000000001, 72.63, 72.46000000000001, 71.09, 71.84, 75.08, 74.7, 73.02, 73.45, 75.64999999999999, 75.48, 73.19, 76.32, 76.13, 77.8, 74.41, 77.29, 76.29, 76.35, 78.01, 78.53, 78.85, 79.28, 78.71000000000001, 79.16, 79.67999999999999, 77.17, 79.73, 79.86, 80.24, 81.01, 80.92, 80.36, 81.54, 81.34, 80.12, 80.87, 81.77, 81.13, 81.47999999999999, 81.17, 80.15]\n"
     ]
    },
    {
     "data": {
      "image/png": "[encoded data removed]",
      "text/plain": [
       "<matplotlib.figure.Figure at 0x7faca7633910>"
      ]
     },
     "metadata": {},
     "output_type": "display_data"
    }
   ],
   "source": [
    "# print(plot_iters)\n",
    "# print(plot_performance)\n",
    "\n",
    "plt.figure()\n",
    "plt.plot(plot_iters,plot_performance)\n",
    "plt.ylabel('performance')\n",
    "plt.xlabel('iterations')\n",
    "plt.savefig(\"images/performance.png\")"
   ]
  },
  {
   "cell_type": "code",
   "execution_count": 75,
   "metadata": {
    "collapsed": false
   },
   "outputs": [],
   "source": [
    "def grad_descent(f, df, x, y, init_t, alpha):\n",
    "    EPS = 1e-5\n",
    "    prev_t = init_t-10*EPS\n",
    "    t = init_t.copy()\n",
    "    max_iter = 30000\n",
    "    iter  = 0\n",
    "    while iter < max_iter:\n",
    "        prev_t = t.copy()\n",
    "        t -= alpha*df(x, y, t)\n",
    "        if iter % 500 == 0:\n",
    "            print \"Iter\", iter\n",
    "#             print \"f(x) = {}\".format(t[0], t[1], t[2], f(x, y, t))\n",
    "#             print \"Gradient: \", df(x, y, t), \"\\n\"\n",
    "        iter += 1\n",
    "    return t\n",
    "\n",
    "def test_performance_linear(theta):\n",
    "    hit = miss = 0\n",
    "    for i in range(10):\n",
    "        for image in M[\"test\" + str(i)]:\n",
    "            result = np.dot(np.append(ones(1),image),theta.T)\n",
    "            if result.argmax() == i:\n",
    "                hit+=1\n",
    "            else:\n",
    "                miss+=1\n",
    "    return (float(hit)/float(hit + miss) * 100)\n",
    "# test_perf()"
   ]
  },
  {
   "cell_type": "code",
   "execution_count": 84,
   "metadata": {
    "collapsed": false
   },
   "outputs": [
    {
     "name": "stdout",
     "output_type": "stream",
     "text": [
      "Iter 0\n",
      "Iter 500\n"
     ]
    },
    {
     "ename": "KeyboardInterrupt",
     "evalue": "",
     "output_type": "error",
     "traceback": [
      "\u001b[0;31m---------------------------------------------------------------------------\u001b[0m",
      "\u001b[0;31mKeyboardInterrupt\u001b[0m                         Traceback (most recent call last)",
      "\u001b[0;32m<ipython-input-84-44051b59909b>\u001b[0m in \u001b[0;36m<module>\u001b[0;34m()\u001b[0m\n\u001b[1;32m     14\u001b[0m \u001b[0mtheta0\u001b[0m \u001b[0;34m=\u001b[0m \u001b[0mnp\u001b[0m\u001b[0;34m.\u001b[0m\u001b[0mzeros\u001b[0m\u001b[0;34m(\u001b[0m\u001b[0;36m10\u001b[0m \u001b[0;34m*\u001b[0m \u001b[0;36m785\u001b[0m\u001b[0;34m)\u001b[0m\u001b[0;34m\u001b[0m\u001b[0m\n\u001b[1;32m     15\u001b[0m \u001b[0mtheta0\u001b[0m \u001b[0;34m=\u001b[0m \u001b[0mtheta0\u001b[0m\u001b[0;34m.\u001b[0m\u001b[0mreshape\u001b[0m\u001b[0;34m(\u001b[0m\u001b[0;36m10\u001b[0m\u001b[0;34m,\u001b[0m\u001b[0;36m785\u001b[0m\u001b[0;34m)\u001b[0m\u001b[0;34m\u001b[0m\u001b[0m\n\u001b[0;32m---> 16\u001b[0;31m \u001b[0mtheta\u001b[0m \u001b[0;34m=\u001b[0m \u001b[0mgrad_descent\u001b[0m\u001b[0;34m(\u001b[0m\u001b[0mf\u001b[0m\u001b[0;34m,\u001b[0m \u001b[0mdf\u001b[0m\u001b[0;34m,\u001b[0m \u001b[0mX\u001b[0m\u001b[0;34m,\u001b[0m \u001b[0mY\u001b[0m\u001b[0;34m,\u001b[0m \u001b[0mtheta0\u001b[0m\u001b[0;34m,\u001b[0m \u001b[0;36m1e-9\u001b[0m\u001b[0;34m)\u001b[0m\u001b[0;34m\u001b[0m\u001b[0m\n\u001b[0m",
      "\u001b[0;32m<ipython-input-75-754fd0b097b8>\u001b[0m in \u001b[0;36mgrad_descent\u001b[0;34m(f, df, x, y, init_t, alpha)\u001b[0m\n\u001b[1;32m      7\u001b[0m     \u001b[0;32mwhile\u001b[0m \u001b[0miter\u001b[0m \u001b[0;34m<\u001b[0m \u001b[0mmax_iter\u001b[0m\u001b[0;34m:\u001b[0m\u001b[0;34m\u001b[0m\u001b[0m\n\u001b[1;32m      8\u001b[0m         \u001b[0mprev_t\u001b[0m \u001b[0;34m=\u001b[0m \u001b[0mt\u001b[0m\u001b[0;34m.\u001b[0m\u001b[0mcopy\u001b[0m\u001b[0;34m(\u001b[0m\u001b[0;34m)\u001b[0m\u001b[0;34m\u001b[0m\u001b[0m\n\u001b[0;32m----> 9\u001b[0;31m         \u001b[0mt\u001b[0m \u001b[0;34m-=\u001b[0m \u001b[0malpha\u001b[0m\u001b[0;34m*\u001b[0m\u001b[0mdf\u001b[0m\u001b[0;34m(\u001b[0m\u001b[0mx\u001b[0m\u001b[0;34m,\u001b[0m \u001b[0my\u001b[0m\u001b[0;34m,\u001b[0m \u001b[0mt\u001b[0m\u001b[0;34m)\u001b[0m\u001b[0;34m\u001b[0m\u001b[0m\n\u001b[0m\u001b[1;32m     10\u001b[0m         \u001b[0;32mif\u001b[0m \u001b[0miter\u001b[0m \u001b[0;34m%\u001b[0m \u001b[0;36m500\u001b[0m \u001b[0;34m==\u001b[0m \u001b[0;36m0\u001b[0m\u001b[0;34m:\u001b[0m\u001b[0;34m\u001b[0m\u001b[0m\n\u001b[1;32m     11\u001b[0m             \u001b[0;32mprint\u001b[0m \u001b[0;34m\"Iter\"\u001b[0m\u001b[0;34m,\u001b[0m \u001b[0miter\u001b[0m\u001b[0;34m\u001b[0m\u001b[0m\n",
      "\u001b[0;32m<ipython-input-84-44051b59909b>\u001b[0m in \u001b[0;36mdf\u001b[0;34m(x, y, theta, bias)\u001b[0m\n\u001b[1;32m      8\u001b[0m     \u001b[0;32mif\u001b[0m \u001b[0mbias\u001b[0m\u001b[0;34m:\u001b[0m\u001b[0;34m\u001b[0m\u001b[0m\n\u001b[1;32m      9\u001b[0m         \u001b[0mx\u001b[0m \u001b[0;34m=\u001b[0m \u001b[0mhstack\u001b[0m\u001b[0;34m(\u001b[0m \u001b[0;34m(\u001b[0m\u001b[0mones\u001b[0m\u001b[0;34m(\u001b[0m\u001b[0;34m(\u001b[0m\u001b[0mx\u001b[0m\u001b[0;34m.\u001b[0m\u001b[0mshape\u001b[0m\u001b[0;34m[\u001b[0m\u001b[0;36m0\u001b[0m\u001b[0;34m]\u001b[0m\u001b[0;34m,\u001b[0m\u001b[0;36m1\u001b[0m\u001b[0;34m)\u001b[0m\u001b[0;34m)\u001b[0m\u001b[0;34m,\u001b[0m \u001b[0mx\u001b[0m\u001b[0;34m)\u001b[0m\u001b[0;34m)\u001b[0m\u001b[0;34m\u001b[0m\u001b[0m\n\u001b[0;32m---> 10\u001b[0;31m     \u001b[0;32mreturn\u001b[0m \u001b[0;36m2\u001b[0m \u001b[0;34m*\u001b[0m \u001b[0mdot\u001b[0m\u001b[0;34m(\u001b[0m\u001b[0;34m(\u001b[0m\u001b[0mdot\u001b[0m\u001b[0;34m(\u001b[0m\u001b[0mx\u001b[0m\u001b[0;34m,\u001b[0m\u001b[0mtheta\u001b[0m\u001b[0;34m.\u001b[0m\u001b[0mT\u001b[0m\u001b[0;34m)\u001b[0m \u001b[0;34m-\u001b[0m \u001b[0my\u001b[0m\u001b[0;34m)\u001b[0m\u001b[0;34m.\u001b[0m\u001b[0mT\u001b[0m\u001b[0;34m,\u001b[0m\u001b[0mx\u001b[0m\u001b[0;34m)\u001b[0m\u001b[0;34m\u001b[0m\u001b[0m\n\u001b[0m\u001b[1;32m     11\u001b[0m \u001b[0;34m\u001b[0m\u001b[0m\n\u001b[1;32m     12\u001b[0m \u001b[0mX\u001b[0m\u001b[0;34m,\u001b[0m\u001b[0mY\u001b[0m\u001b[0;34m,\u001b[0m\u001b[0mn\u001b[0m \u001b[0;34m=\u001b[0m \u001b[0mget_batch\u001b[0m\u001b[0;34m(\u001b[0m\u001b[0;36m0\u001b[0m\u001b[0;34m,\u001b[0m\u001b[0;36m150\u001b[0m\u001b[0;34m)\u001b[0m\u001b[0;34m\u001b[0m\u001b[0m\n",
      "\u001b[0;31mKeyboardInterrupt\u001b[0m: "
     ]
    }
   ],
   "source": [
    "def f(x, y, theta,bias=True):\n",
    "    if bias:\n",
    "        x = hstack((ones((x.shape[0],1)), x))\n",
    "    return sum(sum((y - dot(x,theta.T)) ** 2))\n",
    "\n",
    "\n",
    "def df(x, y, theta,bias=True):\n",
    "    if bias:\n",
    "        x = hstack( (ones((x.shape[0],1)), x))\n",
    "    return 2 * dot((dot(x,theta.T) - y).T,x)\n",
    "\n",
    "X,Y,n = get_batch(0,150)\n",
    "X = X/255.\n",
    "theta0 = np.zeros(10 * 785)\n",
    "theta0 = theta0.reshape(10,785)\n",
    "theta = grad_descent(f, df, X, Y, theta0, 1e-9)"
   ]
  },
  {
   "cell_type": "code",
   "execution_count": 82,
   "metadata": {
    "collapsed": false
   },
   "outputs": [
    {
     "data": {
      "text/plain": [
       "64.3"
      ]
     },
     "execution_count": 82,
     "metadata": {},
     "output_type": "execute_result"
    }
   ],
   "source": [
    "test_performance_linear(theta)"
   ]
  }
 ],
 "metadata": {
  "anaconda-cloud": {},
  "kernelspec": {
   "display_name": "Python 2",
   "language": "python",
   "name": "python2"
  },
  "language_info": {
   "codemirror_mode": {
    "name": "ipython",
    "version": 2
   },
   "file_extension": ".py",
   "mimetype": "text/x-python",
   "name": "python",
   "nbconvert_exporter": "python",
   "pygments_lexer": "ipython2",
   "version": "2.7.13"
  },
  "nbpresent": {
   "slides": {},
   "themes": {
    "default": "9f653140-596b-4ece-983f-6b6a0765482c",
    "theme": {
     "11bff249-c502-4f61-a38e-5981accf77e9": {
      "id": "11bff249-c502-4f61-a38e-5981accf77e9",
      "palette": {
       "19cc588f-0593-49c9-9f4b-e4d7cc113b1c": {
        "id": "19cc588f-0593-49c9-9f4b-e4d7cc113b1c",
        "rgb": [
         252,
         252,
         252
        ]
       },
       "31af15d2-7e15-44c5-ab5e-e04b16a89eff": {
        "id": "31af15d2-7e15-44c5-ab5e-e04b16a89eff",
        "rgb": [
         68,
         68,
         68
        ]
       },
       "50f92c45-a630-455b-aec3-788680ec7410": {
        "id": "50f92c45-a630-455b-aec3-788680ec7410",
        "rgb": [
         155,
         177,
         192
        ]
       },
       "c5cc3653-2ee1-402a-aba2-7caae1da4f6c": {
        "id": "c5cc3653-2ee1-402a-aba2-7caae1da4f6c",
        "rgb": [
         43,
         126,
         184
        ]
       },
       "efa7f048-9acb-414c-8b04-a26811511a21": {
        "id": "efa7f048-9acb-414c-8b04-a26811511a21",
        "rgb": [
         25.118061674008803,
         73.60176211453744,
         107.4819383259912
        ]
       }
      },
      "rules": {
       "blockquote": {
        "color": "50f92c45-a630-455b-aec3-788680ec7410"
       },
       "code": {
        "font-family": "Anonymous Pro"
       },
       "h1": {
        "color": "c5cc3653-2ee1-402a-aba2-7caae1da4f6c",
        "font-family": "Lato",
        "font-size": 8
       },
       "h2": {
        "color": "c5cc3653-2ee1-402a-aba2-7caae1da4f6c",
        "font-family": "Lato",
        "font-size": 6
       },
       "h3": {
        "color": "50f92c45-a630-455b-aec3-788680ec7410",
        "font-family": "Lato",
        "font-size": 5.5
       },
       "h4": {
        "color": "c5cc3653-2ee1-402a-aba2-7caae1da4f6c",
        "font-family": "Lato",
        "font-size": 5
       },
       "h5": {
        "font-family": "Lato"
       },
       "h6": {
        "font-family": "Lato"
       },
       "h7": {
        "font-family": "Lato"
       },
       "pre": {
        "font-family": "Anonymous Pro",
        "font-size": 4
       }
      },
      "text-base": {
       "font-family": "Merriweather",
       "font-size": 4
      }
     },
     "789f2b12-a5e2-45e2-a9f3-007920927d25": {
      "backgrounds": {
       "dc7afa04-bf90-40b1-82a5-726e3cff5267": {
        "background-color": "31af15d2-7e15-44c5-ab5e-e04b16a89eff",
        "id": "dc7afa04-bf90-40b1-82a5-726e3cff5267"
       }
      },
      "id": "789f2b12-a5e2-45e2-a9f3-007920927d25",
      "palette": {
       "19cc588f-0593-49c9-9f4b-e4d7cc113b1c": {
        "id": "19cc588f-0593-49c9-9f4b-e4d7cc113b1c",
        "rgb": [
         252,
         252,
         252
        ]
       },
       "31af15d2-7e15-44c5-ab5e-e04b16a89eff": {
        "id": "31af15d2-7e15-44c5-ab5e-e04b16a89eff",
        "rgb": [
         68,
         68,
         68
        ]
       },
       "50f92c45-a630-455b-aec3-788680ec7410": {
        "id": "50f92c45-a630-455b-aec3-788680ec7410",
        "rgb": [
         197,
         226,
         245
        ]
       },
       "c5cc3653-2ee1-402a-aba2-7caae1da4f6c": {
        "id": "c5cc3653-2ee1-402a-aba2-7caae1da4f6c",
        "rgb": [
         43,
         126,
         184
        ]
       },
       "efa7f048-9acb-414c-8b04-a26811511a21": {
        "id": "efa7f048-9acb-414c-8b04-a26811511a21",
        "rgb": [
         25.118061674008803,
         73.60176211453744,
         107.4819383259912
        ]
       }
      },
      "rules": {
       "a": {
        "color": "19cc588f-0593-49c9-9f4b-e4d7cc113b1c"
       },
       "blockquote": {
        "color": "50f92c45-a630-455b-aec3-788680ec7410",
        "font-size": 3
       },
       "code": {
        "font-family": "Anonymous Pro"
       },
       "h1": {
        "color": "19cc588f-0593-49c9-9f4b-e4d7cc113b1c",
        "font-family": "Merriweather",
        "font-size": 8
       },
       "h2": {
        "color": "19cc588f-0593-49c9-9f4b-e4d7cc113b1c",
        "font-family": "Merriweather",
        "font-size": 6
       },
       "h3": {
        "color": "50f92c45-a630-455b-aec3-788680ec7410",
        "font-family": "Lato",
        "font-size": 5.5
       },
       "h4": {
        "color": "c5cc3653-2ee1-402a-aba2-7caae1da4f6c",
        "font-family": "Lato",
        "font-size": 5
       },
       "h5": {
        "font-family": "Lato"
       },
       "h6": {
        "font-family": "Lato"
       },
       "h7": {
        "font-family": "Lato"
       },
       "li": {
        "color": "50f92c45-a630-455b-aec3-788680ec7410",
        "font-size": 3.25
       },
       "pre": {
        "font-family": "Anonymous Pro",
        "font-size": 4
       }
      },
      "text-base": {
       "color": "19cc588f-0593-49c9-9f4b-e4d7cc113b1c",
       "font-family": "Lato",
       "font-size": 4
      }
     },
     "9f653140-596b-4ece-983f-6b6a0765482c": {
      "backgrounds": {
       "backgroundColor": {
        "background-color": "backgroundColor",
        "id": "backgroundColor"
       }
      },
      "id": "9f653140-596b-4ece-983f-6b6a0765482c",
      "palette": {
       "backgroundColor": {
        "id": "backgroundColor",
        "rgb": [
         0,
         43,
         54
        ]
       },
       "headingColor": {
        "id": "headingColor",
        "rgb": [
         238,
         232,
         213
        ]
       },
       "linkColor": {
        "id": "linkColor",
        "rgb": [
         38,
         139,
         210
        ]
       },
       "mainColor": {
        "id": "mainColor",
        "rgb": [
         147,
         161,
         161
        ]
       }
      },
      "rules": {
       "a": {
        "color": "linkColor"
       },
       "h1": {
        "color": "headingColor",
        "font-family": "Oswald",
        "font-size": 7
       },
       "h2": {
        "color": "headingColor",
        "font-family": "Oswald",
        "font-size": 5
       },
       "h3": {
        "color": "headingColor",
        "font-family": "Oswald",
        "font-size": 3.75
       },
       "h4": {
        "color": "headingColor",
        "font-family": "Oswald",
        "font-size": 3
       },
       "h5": {
        "color": "headingColor",
        "font-family": "Oswald"
       },
       "h6": {
        "color": "headingColor",
        "font-family": "Oswald"
       },
       "h7": {
        "color": "headingColor",
        "font-family": "Oswald"
       },
       "li": {
        "color": "mainColor",
        "font-family": "Lato",
        "font-size": 5
       },
       "p": {
        "color": "mainColor",
        "font-family": "Lato",
        "font-size": 5
       }
      },
      "text-base": {
       "color": "mainColor",
       "font-family": "Lato",
       "font-size": 5
      }
     }
    }
   }
  }
 },
 "nbformat": 4,
 "nbformat_minor": 2
}
